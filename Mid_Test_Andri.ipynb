{
  "nbformat": 4,
  "nbformat_minor": 0,
  "metadata": {
    "colab": {
      "provenance": []
    },
    "kernelspec": {
      "name": "python3",
      "display_name": "Python 3"
    },
    "language_info": {
      "name": "python"
    }
  },
  "cells": [
    {
      "cell_type": "markdown",
      "source": [
        "Input:\n",
        "\n",
        "names = [Andi, Budi, Charlie, Dilan, Echa]\n",
        "score = [80, 90, 95, 100, 85]\n",
        "This means, Andi gets 80, Budi gets 90, Charlie gets 95, Dilan gets 100, and Echa gets 85. The first best score is 100, and Dilan gets it. The second best score is 95, and Charlie gets it. The third best score is 90, and Budi gets it. So, our output should be Budi.\n",
        "\n",
        "Output: 'The third winner: Budi'.\n",
        "\n",
        "When we run third_place(names, score), the output will be 'The third winner: Budi'."
      ],
      "metadata": {
        "id": "XEbYN0CRkR_D"
      }
    },
    {
      "cell_type": "code",
      "source": [
        "import pandas as pd\n",
        "\n",
        "def peringkat_ketiga(nama, skor):\n",
        "  skor_min, skor_maks = min(skor), max(skor)\n",
        "  indeks_perunggu = None\n",
        "  for i, s in enumerate(skor):\n",
        "    if s != skor_min and s != skor_maks:\n",
        "      indeks_perunggu = i\n",
        "      break\n",
        "\n",
        "  if len(set(skor)) < 3:\n",
        "    return \"Tidak ada peserta peringkat ketiga (kurang dari 3 nilai unik).\"\n",
        "  elif indeks_perunggu is not None:\n",
        "    return f\"Peringkat ketiga: {nama[indeks_perunggu]}\"\n",
        "  else:\n",
        "    return \"Tidak ada peserta peringkat ketiga (hanya ada dua nilai unik).\"\n",
        "\n",
        "nama = [\"Andi\", \"Budi\", \"Charlie\", \"Dilan\", \"Echa\"]\n",
        "skor = [80, 90, 95, 100, 85]\n",
        "hasil = peringkat_ketiga(nama, skor)\n",
        "print(hasil)\n"
      ],
      "metadata": {
        "colab": {
          "base_uri": "https://localhost:8080/"
        },
        "id": "Sgf0j4jUjrEL",
        "outputId": "4f9eeb13-bfa4-4775-eb71-92df2a381ca3"
      },
      "execution_count": 21,
      "outputs": [
        {
          "output_type": "stream",
          "name": "stdout",
          "text": [
            "Peringkat ketiga: Budi\n"
          ]
        }
      ]
    },
    {
      "cell_type": "markdown",
      "source": [
        "Input:\n",
        "\n",
        "names = [Andi, Budi, Charlie, Dilan, Echa]\n",
        "score = [80, 80, 80, 100, 90]\n",
        "This means, Andi, Budi, and Charlie gets 80, Dilan gets 100, and Echa gets 90. The third best score is 80, and our output should list ALL of the participants who get 80.\n",
        "\n",
        "Output: 'The third winner: Andi, Budi, Charlie'.\n",
        "\n",
        "When we run third_place(names, score), the output will be 'The third winner: Andi, Budi, Charlie'."
      ],
      "metadata": {
        "id": "VYPXNPEko-bp"
      }
    },
    {
      "cell_type": "code",
      "source": [
        "def peringkat_ketiga(nama, skor):\n",
        "  nilai_perunggu = sorted(set(skor))[-3]\n",
        "  peserta_perunggu = [nama[i] for i, s in enumerate(skor) if s == nilai_perunggu]\n",
        "\n",
        "  if peserta_perunggu:\n",
        "    daftar_perunggu = \", \".join(peserta_perunggu)\n",
        "    return f\"Peringkat ketiga: {daftar_perunggu}\"\n",
        "  else:\n",
        "    return \"Tidak ada peserta peringkat ketiga (hanya ada dua nilai unik).\"\n",
        "\n",
        "nama = [\"Andi\", \"Budi\", \"Charlie\", \"Dilan\", \"Echa\"]\n",
        "skor = [80, 80, 80, 100, 90]\n",
        "hasil = peringkat_ketiga(nama, skor)\n",
        "print(hasil)\n"
      ],
      "metadata": {
        "colab": {
          "base_uri": "https://localhost:8080/"
        },
        "id": "25XYrWHzlT7i",
        "outputId": "7c7728dd-b1a5-40d9-99f3-629b3e53f79d"
      },
      "execution_count": 22,
      "outputs": [
        {
          "output_type": "stream",
          "name": "stdout",
          "text": [
            "Peringkat ketiga: Andi, Budi, Charlie\n"
          ]
        }
      ]
    },
    {
      "cell_type": "markdown",
      "source": [
        "Input:\n",
        "\n",
        "names = [Andi, Budi, Charlie, Dilan, Echa, Fanya]\n",
        "score = [80, 90, 90, 100, 100, 80]\n",
        "The first best score (first winner) is 100 - Dilan and Echa shared this position. The second best score (second winner) is 90 - Budi and Charlie shared this position. The third best score (third winner) is 80, and it is shared by Andi and Fanya. So, our output should be Andi and Fanya.\n",
        "\n",
        "Output: 'The third winner: Andi, Fanya'.\n"
      ],
      "metadata": {
        "id": "yyt4eGTEqtCL"
      }
    },
    {
      "cell_type": "code",
      "source": [
        "def peringkat_ketiga(nama, skor):\n",
        "  nilai_unik = sorted(set(skor), reverse=True)\n",
        "  nilai_perunggu = nilai_unik[2] if len(nilai_unik) >= 3 else None\n",
        "\n",
        "  if nilai_perunggu:\n",
        "    peserta_perunggu = [nama[i] for i, s in enumerate(skor) if s == nilai_perunggu]\n",
        "    daftar_perunggu = \", \".join(peserta_perunggu)\n",
        "    return f\"Peringkat ketiga: {daftar_perunggu}\"\n",
        "  else:\n",
        "    if len(nilai_unik) < 3:\n",
        "      return \"Tidak ada peserta peringkat ketiga (kurang dari 3 nilai unik).\"\n",
        "    else:\n",
        "      return \"Tidak ada peserta dengan nilai peringkat ketiga.\"\n",
        "\n",
        "nama = [\"Andi\", \"Budi\", \"Charlie\", \"Dilan\", \"Echa\", \"Fanya\"]\n",
        "skor = [80, 90, 90, 100, 100, 80]\n",
        "hasil = peringkat_ketiga(nama, skor)\n",
        "print(hasil)"
      ],
      "metadata": {
        "colab": {
          "base_uri": "https://localhost:8080/"
        },
        "id": "pJh4S0dHpnTQ",
        "outputId": "da20f7a0-1c50-4047-f5f8-034d1148c24f"
      },
      "execution_count": 23,
      "outputs": [
        {
          "output_type": "stream",
          "name": "stdout",
          "text": [
            "Peringkat ketiga: Andi, Fanya\n"
          ]
        }
      ]
    },
    {
      "cell_type": "markdown",
      "source": [
        "Input:\n",
        "\n",
        "point_1 = [5, 5]\n",
        "point_2 = [1, 2]\n",
        "This means, the first point's coordinate is (5,5), the second point's coordinate is (1,2). To calculate the distance between these two points, we use the usual euclidean distance formula here: https://wikimedia.org/api/rest_v1/media/math/render/svg/2e0c9ce1b3455cb9e92c6bad6684dbda02f69c82.\n",
        "\n",
        "The distance is:\n",
        "\n",
        "Square root of ((5-1)^2 + (5-2)^2) = Square root of (16 + 9) = Square root of (25) = 5.\n",
        "\n",
        "Output: 'The distance is 5.'\n",
        "\n",
        "So, when we run the code distance(point_1, point_2) the output will be 'The distance is 5'."
      ],
      "metadata": {
        "id": "1lO7V5F7sVWK"
      }
    },
    {
      "cell_type": "code",
      "source": [
        "import math\n",
        "\n",
        "def distance(point_1, point_2):\n",
        "  if len(point_1) != 2 or len(point_2) != 2:\n",
        "    raise ValueError(\"Titik harus memiliki dua koordinat (x, y).\")\n",
        "\n",
        "  x_diff = point_1[0] - point_2[0]\n",
        "  y_diff = point_1[1] - point_2[1]\n",
        "  squared_diff = x_diff**2 + y_diff**2\n",
        "  distance = math.sqrt(squared_diff)\n",
        "  return distance\n",
        "\n",
        "poin_1 = [5, 5]\n",
        "poin_2 = [1, 2]\n",
        "jarak = distance(poin_1, poin_2)\n",
        "print(f\"Jaraknya {jarak:.2f}.\")"
      ],
      "metadata": {
        "colab": {
          "base_uri": "https://localhost:8080/"
        },
        "id": "6haNJCxVqq6v",
        "outputId": "1fb50bc0-bb45-4e34-ee96-953cf5fe6556"
      },
      "execution_count": 24,
      "outputs": [
        {
          "output_type": "stream",
          "name": "stdout",
          "text": [
            "Jaraknya 5.00.\n"
          ]
        }
      ]
    },
    {
      "cell_type": "markdown",
      "source": [
        "Input:\n",
        "\n",
        "point_1 = [0,-1]\n",
        "point_2 = [-3, 2]\n",
        "The first coordinate is (0,-1), the second coordinate is (-3,2). The distance between them is:\n",
        "\n",
        "Square root of ((0- -3)^2 + (-1-2)^2) = Square root of (9 + 9) = Square root of (18) = 4.242640687\n",
        "\n",
        "Output: 'The distance is 4.242640687'.\n",
        "\n",
        "So, when we run the code distance(point_1, point_2) the output will be 'The distance is 4.242640487'."
      ],
      "metadata": {
        "id": "obu8SoKFssWU"
      }
    },
    {
      "cell_type": "code",
      "source": [
        "import math\n",
        "\n",
        "def distance(titik_1, titik_2):\n",
        "\n",
        "  if len(titik_1) != 2 or len(titik_2) != 2:\n",
        "    raise ValueError(\"Titik harus memiliki dua koordinat (x, y).\")\n",
        "\n",
        "  selisih_x = titik_1[0] - titik_2[0]\n",
        "  selisih_y = titik_1[1] - titik_2[1]\n",
        "  kuadrat_selisih = selisih_x**2 + selisih_y**2\n",
        "  jarak = math.sqrt(kuadrat_selisih)\n",
        "  return jarak\n",
        "\n",
        "titik_1 = [0, -1]\n",
        "titik_2 = [-3, 2]\n",
        "jarak = distance(titik_1, titik_2)\n",
        "print(f\"Jaraknya {jarak:.4f}.\")"
      ],
      "metadata": {
        "colab": {
          "base_uri": "https://localhost:8080/"
        },
        "id": "gd2wIVxfsSfp",
        "outputId": "34a13780-e19e-483c-fc83-26d520bb3d3b"
      },
      "execution_count": 25,
      "outputs": [
        {
          "output_type": "stream",
          "name": "stdout",
          "text": [
            "Jaraknya 4.2426.\n"
          ]
        }
      ]
    },
    {
      "cell_type": "code",
      "source": [],
      "metadata": {
        "id": "PZ5UmMPItYFP"
      },
      "execution_count": null,
      "outputs": []
    }
  ]
}